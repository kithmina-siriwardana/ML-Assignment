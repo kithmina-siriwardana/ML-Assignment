{
  "cells": [
    {
      "cell_type": "markdown",
      "metadata": {
        "id": "LFgFP6R1P2Tc"
      },
      "source": [
        "Import neccessary libraries"
      ]
    },
    {
      "cell_type": "code",
      "execution_count": 14,
      "metadata": {
        "id": "ZeJV2NAbPl6i"
      },
      "outputs": [],
      "source": [
        "import pandas as pd\n",
        "import matplotlib.pyplot as plt\n",
        "import seaborn as sns\n",
        "\n",
        "from sklearn.model_selection import train_test_split, GridSearchCV\n",
        "from sklearn.metrics import accuracy_score, confusion_matrix, classification_report\n",
        "from xgboost import XGBClassifier"
      ]
    },
    {
      "cell_type": "markdown",
      "metadata": {
        "id": "6g9Lfyo_QJlr"
      },
      "source": [
        "Import preprocessed data set"
      ]
    },
    {
      "cell_type": "code",
      "execution_count": 2,
      "metadata": {
        "colab": {
          "base_uri": "https://localhost:8080/",
          "height": 423
        },
        "id": "j-nya7XrQG13",
        "outputId": "01bf8e33-a2ea-4f98-cbcb-ec73c325efb7"
      },
      "outputs": [
        {
          "data": {
            "application/vnd.google.colaboratory.intrinsic+json": {
              "summary": "{\n  \"name\": \"df\",\n  \"rows\": 15926,\n  \"fields\": [\n    {\n      \"column\": \"credit_score\",\n      \"properties\": {\n        \"dtype\": \"number\",\n        \"std\": 0.202284116995062,\n        \"min\": 0.0,\n        \"max\": 1.0,\n        \"num_unique_values\": 6323,\n        \"samples\": [\n          0.6613082350698001,\n          0.6057174324495356,\n          0.755511008\n        ],\n        \"semantic_type\": \"\",\n        \"description\": \"\"\n      }\n    },\n    {\n      \"column\": \"age\",\n      \"properties\": {\n        \"dtype\": \"number\",\n        \"std\": 0.2213724207420137,\n        \"min\": 0.0,\n        \"max\": 1.0,\n        \"num_unique_values\": 5466,\n        \"samples\": [\n          0.8585212212118464,\n          0.6288428462322682,\n          0.7018063923089293\n        ],\n        \"semantic_type\": \"\",\n        \"description\": \"\"\n      }\n    },\n    {\n      \"column\": \"tenure\",\n      \"properties\": {\n        \"dtype\": \"number\",\n        \"std\": 0.2863453999057595,\n        \"min\": 0.0,\n        \"max\": 1.0,\n        \"num_unique_values\": 4052,\n        \"samples\": [\n          0.1037253880614196,\n          0.3000943415267632,\n          0.1496750498856365\n        ],\n        \"semantic_type\": \"\",\n        \"description\": \"\"\n      }\n    },\n    {\n      \"column\": \"balance\",\n      \"properties\": {\n        \"dtype\": \"number\",\n        \"std\": 0.24143129366192784,\n        \"min\": 0.0,\n        \"max\": 1.0,\n        \"num_unique_values\": 11022,\n        \"samples\": [\n          0.4005059584152275,\n          0.4741470132355332,\n          0.5435114299659636\n        ],\n        \"semantic_type\": \"\",\n        \"description\": \"\"\n      }\n    },\n    {\n      \"column\": \"products_number\",\n      \"properties\": {\n        \"dtype\": \"number\",\n        \"std\": 0.25728263701277687,\n        \"min\": 0.0,\n        \"max\": 1.0,\n        \"num_unique_values\": 368,\n        \"samples\": [\n          0.4640007107024229,\n          0.34622662905218,\n          0.4191750213443989\n        ],\n        \"semantic_type\": \"\",\n        \"description\": \"\"\n      }\n    },\n    {\n      \"column\": \"credit_card\",\n      \"properties\": {\n        \"dtype\": \"number\",\n        \"std\": 0,\n        \"min\": 0,\n        \"max\": 1,\n        \"num_unique_values\": 2,\n        \"samples\": [\n          0,\n          1\n        ],\n        \"semantic_type\": \"\",\n        \"description\": \"\"\n      }\n    },\n    {\n      \"column\": \"active_member\",\n      \"properties\": {\n        \"dtype\": \"number\",\n        \"std\": 0,\n        \"min\": 0,\n        \"max\": 1,\n        \"num_unique_values\": 2,\n        \"samples\": [\n          0,\n          1\n        ],\n        \"semantic_type\": \"\",\n        \"description\": \"\"\n      }\n    },\n    {\n      \"column\": \"estimated_salary\",\n      \"properties\": {\n        \"dtype\": \"number\",\n        \"std\": 0.2852418851720417,\n        \"min\": 0.0,\n        \"max\": 1.0,\n        \"num_unique_values\": 15925,\n        \"samples\": [\n          0.2828885158532639,\n          0.2147857620402748\n        ],\n        \"semantic_type\": \"\",\n        \"description\": \"\"\n      }\n    },\n    {\n      \"column\": \"churn\",\n      \"properties\": {\n        \"dtype\": \"number\",\n        \"std\": 0,\n        \"min\": 0,\n        \"max\": 1,\n        \"num_unique_values\": 2,\n        \"samples\": [\n          0,\n          1\n        ],\n        \"semantic_type\": \"\",\n        \"description\": \"\"\n      }\n    }\n  ]\n}",
              "type": "dataframe",
              "variable_name": "df"
            },
            "text/html": [
              "\n",
              "  <div id=\"df-f991ca37-c1f5-4b99-8565-64fb456509da\" class=\"colab-df-container\">\n",
              "    <div>\n",
              "<style scoped>\n",
              "    .dataframe tbody tr th:only-of-type {\n",
              "        vertical-align: middle;\n",
              "    }\n",
              "\n",
              "    .dataframe tbody tr th {\n",
              "        vertical-align: top;\n",
              "    }\n",
              "\n",
              "    .dataframe thead th {\n",
              "        text-align: right;\n",
              "    }\n",
              "</style>\n",
              "<table border=\"1\" class=\"dataframe\">\n",
              "  <thead>\n",
              "    <tr style=\"text-align: right;\">\n",
              "      <th></th>\n",
              "      <th>credit_score</th>\n",
              "      <th>age</th>\n",
              "      <th>tenure</th>\n",
              "      <th>balance</th>\n",
              "      <th>products_number</th>\n",
              "      <th>credit_card</th>\n",
              "      <th>active_member</th>\n",
              "      <th>estimated_salary</th>\n",
              "      <th>churn</th>\n",
              "    </tr>\n",
              "  </thead>\n",
              "  <tbody>\n",
              "    <tr>\n",
              "      <th>0</th>\n",
              "      <td>0.505353</td>\n",
              "      <td>0.545455</td>\n",
              "      <td>0.200000</td>\n",
              "      <td>0.000000</td>\n",
              "      <td>0.000000</td>\n",
              "      <td>1</td>\n",
              "      <td>1</td>\n",
              "      <td>0.506735</td>\n",
              "      <td>1</td>\n",
              "    </tr>\n",
              "    <tr>\n",
              "      <th>1</th>\n",
              "      <td>0.481799</td>\n",
              "      <td>0.522727</td>\n",
              "      <td>0.100000</td>\n",
              "      <td>0.334031</td>\n",
              "      <td>0.000000</td>\n",
              "      <td>0</td>\n",
              "      <td>1</td>\n",
              "      <td>0.562709</td>\n",
              "      <td>0</td>\n",
              "    </tr>\n",
              "    <tr>\n",
              "      <th>2</th>\n",
              "      <td>0.254818</td>\n",
              "      <td>0.545455</td>\n",
              "      <td>0.800000</td>\n",
              "      <td>0.636357</td>\n",
              "      <td>0.800000</td>\n",
              "      <td>1</td>\n",
              "      <td>0</td>\n",
              "      <td>0.569654</td>\n",
              "      <td>1</td>\n",
              "    </tr>\n",
              "    <tr>\n",
              "      <th>3</th>\n",
              "      <td>0.676660</td>\n",
              "      <td>0.477273</td>\n",
              "      <td>0.100000</td>\n",
              "      <td>0.000000</td>\n",
              "      <td>0.400000</td>\n",
              "      <td>0</td>\n",
              "      <td>0</td>\n",
              "      <td>0.469120</td>\n",
              "      <td>0</td>\n",
              "    </tr>\n",
              "    <tr>\n",
              "      <th>4</th>\n",
              "      <td>1.000000</td>\n",
              "      <td>0.568182</td>\n",
              "      <td>0.200000</td>\n",
              "      <td>0.500246</td>\n",
              "      <td>0.000000</td>\n",
              "      <td>1</td>\n",
              "      <td>1</td>\n",
              "      <td>0.395400</td>\n",
              "      <td>0</td>\n",
              "    </tr>\n",
              "    <tr>\n",
              "      <th>...</th>\n",
              "      <td>...</td>\n",
              "      <td>...</td>\n",
              "      <td>...</td>\n",
              "      <td>...</td>\n",
              "      <td>...</td>\n",
              "      <td>...</td>\n",
              "      <td>...</td>\n",
              "      <td>...</td>\n",
              "      <td>...</td>\n",
              "    </tr>\n",
              "    <tr>\n",
              "      <th>15921</th>\n",
              "      <td>0.796021</td>\n",
              "      <td>0.635139</td>\n",
              "      <td>0.294613</td>\n",
              "      <td>0.444239</td>\n",
              "      <td>0.800000</td>\n",
              "      <td>1</td>\n",
              "      <td>0</td>\n",
              "      <td>0.800099</td>\n",
              "      <td>1</td>\n",
              "    </tr>\n",
              "    <tr>\n",
              "      <th>15922</th>\n",
              "      <td>0.141680</td>\n",
              "      <td>0.920881</td>\n",
              "      <td>0.690375</td>\n",
              "      <td>0.499893</td>\n",
              "      <td>0.000000</td>\n",
              "      <td>1</td>\n",
              "      <td>0</td>\n",
              "      <td>0.252670</td>\n",
              "      <td>1</td>\n",
              "    </tr>\n",
              "    <tr>\n",
              "      <th>15923</th>\n",
              "      <td>0.573911</td>\n",
              "      <td>0.332799</td>\n",
              "      <td>0.258921</td>\n",
              "      <td>0.482150</td>\n",
              "      <td>0.000000</td>\n",
              "      <td>0</td>\n",
              "      <td>1</td>\n",
              "      <td>0.826455</td>\n",
              "      <td>1</td>\n",
              "    </tr>\n",
              "    <tr>\n",
              "      <th>15924</th>\n",
              "      <td>0.611469</td>\n",
              "      <td>0.556419</td>\n",
              "      <td>0.162646</td>\n",
              "      <td>0.000000</td>\n",
              "      <td>0.874707</td>\n",
              "      <td>1</td>\n",
              "      <td>0</td>\n",
              "      <td>0.375351</td>\n",
              "      <td>1</td>\n",
              "    </tr>\n",
              "    <tr>\n",
              "      <th>15925</th>\n",
              "      <td>0.797751</td>\n",
              "      <td>0.103138</td>\n",
              "      <td>0.900000</td>\n",
              "      <td>0.000000</td>\n",
              "      <td>0.000000</td>\n",
              "      <td>1</td>\n",
              "      <td>0</td>\n",
              "      <td>0.120499</td>\n",
              "      <td>1</td>\n",
              "    </tr>\n",
              "  </tbody>\n",
              "</table>\n",
              "<p>15926 rows × 9 columns</p>\n",
              "</div>\n",
              "    <div class=\"colab-df-buttons\">\n",
              "\n",
              "  <div class=\"colab-df-container\">\n",
              "    <button class=\"colab-df-convert\" onclick=\"convertToInteractive('df-f991ca37-c1f5-4b99-8565-64fb456509da')\"\n",
              "            title=\"Convert this dataframe to an interactive table.\"\n",
              "            style=\"display:none;\">\n",
              "\n",
              "  <svg xmlns=\"http://www.w3.org/2000/svg\" height=\"24px\" viewBox=\"0 -960 960 960\">\n",
              "    <path d=\"M120-120v-720h720v720H120Zm60-500h600v-160H180v160Zm220 220h160v-160H400v160Zm0 220h160v-160H400v160ZM180-400h160v-160H180v160Zm440 0h160v-160H620v160ZM180-180h160v-160H180v160Zm440 0h160v-160H620v160Z\"/>\n",
              "  </svg>\n",
              "    </button>\n",
              "\n",
              "  <style>\n",
              "    .colab-df-container {\n",
              "      display:flex;\n",
              "      gap: 12px;\n",
              "    }\n",
              "\n",
              "    .colab-df-convert {\n",
              "      background-color: #E8F0FE;\n",
              "      border: none;\n",
              "      border-radius: 50%;\n",
              "      cursor: pointer;\n",
              "      display: none;\n",
              "      fill: #1967D2;\n",
              "      height: 32px;\n",
              "      padding: 0 0 0 0;\n",
              "      width: 32px;\n",
              "    }\n",
              "\n",
              "    .colab-df-convert:hover {\n",
              "      background-color: #E2EBFA;\n",
              "      box-shadow: 0px 1px 2px rgba(60, 64, 67, 0.3), 0px 1px 3px 1px rgba(60, 64, 67, 0.15);\n",
              "      fill: #174EA6;\n",
              "    }\n",
              "\n",
              "    .colab-df-buttons div {\n",
              "      margin-bottom: 4px;\n",
              "    }\n",
              "\n",
              "    [theme=dark] .colab-df-convert {\n",
              "      background-color: #3B4455;\n",
              "      fill: #D2E3FC;\n",
              "    }\n",
              "\n",
              "    [theme=dark] .colab-df-convert:hover {\n",
              "      background-color: #434B5C;\n",
              "      box-shadow: 0px 1px 3px 1px rgba(0, 0, 0, 0.15);\n",
              "      filter: drop-shadow(0px 1px 2px rgba(0, 0, 0, 0.3));\n",
              "      fill: #FFFFFF;\n",
              "    }\n",
              "  </style>\n",
              "\n",
              "    <script>\n",
              "      const buttonEl =\n",
              "        document.querySelector('#df-f991ca37-c1f5-4b99-8565-64fb456509da button.colab-df-convert');\n",
              "      buttonEl.style.display =\n",
              "        google.colab.kernel.accessAllowed ? 'block' : 'none';\n",
              "\n",
              "      async function convertToInteractive(key) {\n",
              "        const element = document.querySelector('#df-f991ca37-c1f5-4b99-8565-64fb456509da');\n",
              "        const dataTable =\n",
              "          await google.colab.kernel.invokeFunction('convertToInteractive',\n",
              "                                                    [key], {});\n",
              "        if (!dataTable) return;\n",
              "\n",
              "        const docLinkHtml = 'Like what you see? Visit the ' +\n",
              "          '<a target=\"_blank\" href=https://colab.research.google.com/notebooks/data_table.ipynb>data table notebook</a>'\n",
              "          + ' to learn more about interactive tables.';\n",
              "        element.innerHTML = '';\n",
              "        dataTable['output_type'] = 'display_data';\n",
              "        await google.colab.output.renderOutput(dataTable, element);\n",
              "        const docLink = document.createElement('div');\n",
              "        docLink.innerHTML = docLinkHtml;\n",
              "        element.appendChild(docLink);\n",
              "      }\n",
              "    </script>\n",
              "  </div>\n",
              "\n",
              "\n",
              "<div id=\"df-2a81309e-2951-4776-9948-c67905e86e25\">\n",
              "  <button class=\"colab-df-quickchart\" onclick=\"quickchart('df-2a81309e-2951-4776-9948-c67905e86e25')\"\n",
              "            title=\"Suggest charts\"\n",
              "            style=\"display:none;\">\n",
              "\n",
              "<svg xmlns=\"http://www.w3.org/2000/svg\" height=\"24px\"viewBox=\"0 0 24 24\"\n",
              "     width=\"24px\">\n",
              "    <g>\n",
              "        <path d=\"M19 3H5c-1.1 0-2 .9-2 2v14c0 1.1.9 2 2 2h14c1.1 0 2-.9 2-2V5c0-1.1-.9-2-2-2zM9 17H7v-7h2v7zm4 0h-2V7h2v10zm4 0h-2v-4h2v4z\"/>\n",
              "    </g>\n",
              "</svg>\n",
              "  </button>\n",
              "\n",
              "<style>\n",
              "  .colab-df-quickchart {\n",
              "      --bg-color: #E8F0FE;\n",
              "      --fill-color: #1967D2;\n",
              "      --hover-bg-color: #E2EBFA;\n",
              "      --hover-fill-color: #174EA6;\n",
              "      --disabled-fill-color: #AAA;\n",
              "      --disabled-bg-color: #DDD;\n",
              "  }\n",
              "\n",
              "  [theme=dark] .colab-df-quickchart {\n",
              "      --bg-color: #3B4455;\n",
              "      --fill-color: #D2E3FC;\n",
              "      --hover-bg-color: #434B5C;\n",
              "      --hover-fill-color: #FFFFFF;\n",
              "      --disabled-bg-color: #3B4455;\n",
              "      --disabled-fill-color: #666;\n",
              "  }\n",
              "\n",
              "  .colab-df-quickchart {\n",
              "    background-color: var(--bg-color);\n",
              "    border: none;\n",
              "    border-radius: 50%;\n",
              "    cursor: pointer;\n",
              "    display: none;\n",
              "    fill: var(--fill-color);\n",
              "    height: 32px;\n",
              "    padding: 0;\n",
              "    width: 32px;\n",
              "  }\n",
              "\n",
              "  .colab-df-quickchart:hover {\n",
              "    background-color: var(--hover-bg-color);\n",
              "    box-shadow: 0 1px 2px rgba(60, 64, 67, 0.3), 0 1px 3px 1px rgba(60, 64, 67, 0.15);\n",
              "    fill: var(--button-hover-fill-color);\n",
              "  }\n",
              "\n",
              "  .colab-df-quickchart-complete:disabled,\n",
              "  .colab-df-quickchart-complete:disabled:hover {\n",
              "    background-color: var(--disabled-bg-color);\n",
              "    fill: var(--disabled-fill-color);\n",
              "    box-shadow: none;\n",
              "  }\n",
              "\n",
              "  .colab-df-spinner {\n",
              "    border: 2px solid var(--fill-color);\n",
              "    border-color: transparent;\n",
              "    border-bottom-color: var(--fill-color);\n",
              "    animation:\n",
              "      spin 1s steps(1) infinite;\n",
              "  }\n",
              "\n",
              "  @keyframes spin {\n",
              "    0% {\n",
              "      border-color: transparent;\n",
              "      border-bottom-color: var(--fill-color);\n",
              "      border-left-color: var(--fill-color);\n",
              "    }\n",
              "    20% {\n",
              "      border-color: transparent;\n",
              "      border-left-color: var(--fill-color);\n",
              "      border-top-color: var(--fill-color);\n",
              "    }\n",
              "    30% {\n",
              "      border-color: transparent;\n",
              "      border-left-color: var(--fill-color);\n",
              "      border-top-color: var(--fill-color);\n",
              "      border-right-color: var(--fill-color);\n",
              "    }\n",
              "    40% {\n",
              "      border-color: transparent;\n",
              "      border-right-color: var(--fill-color);\n",
              "      border-top-color: var(--fill-color);\n",
              "    }\n",
              "    60% {\n",
              "      border-color: transparent;\n",
              "      border-right-color: var(--fill-color);\n",
              "    }\n",
              "    80% {\n",
              "      border-color: transparent;\n",
              "      border-right-color: var(--fill-color);\n",
              "      border-bottom-color: var(--fill-color);\n",
              "    }\n",
              "    90% {\n",
              "      border-color: transparent;\n",
              "      border-bottom-color: var(--fill-color);\n",
              "    }\n",
              "  }\n",
              "</style>\n",
              "\n",
              "  <script>\n",
              "    async function quickchart(key) {\n",
              "      const quickchartButtonEl =\n",
              "        document.querySelector('#' + key + ' button');\n",
              "      quickchartButtonEl.disabled = true;  // To prevent multiple clicks.\n",
              "      quickchartButtonEl.classList.add('colab-df-spinner');\n",
              "      try {\n",
              "        const charts = await google.colab.kernel.invokeFunction(\n",
              "            'suggestCharts', [key], {});\n",
              "      } catch (error) {\n",
              "        console.error('Error during call to suggestCharts:', error);\n",
              "      }\n",
              "      quickchartButtonEl.classList.remove('colab-df-spinner');\n",
              "      quickchartButtonEl.classList.add('colab-df-quickchart-complete');\n",
              "    }\n",
              "    (() => {\n",
              "      let quickchartButtonEl =\n",
              "        document.querySelector('#df-2a81309e-2951-4776-9948-c67905e86e25 button');\n",
              "      quickchartButtonEl.style.display =\n",
              "        google.colab.kernel.accessAllowed ? 'block' : 'none';\n",
              "    })();\n",
              "  </script>\n",
              "</div>\n",
              "\n",
              "  <div id=\"id_7435339e-297f-454a-810d-0a01c2897d89\">\n",
              "    <style>\n",
              "      .colab-df-generate {\n",
              "        background-color: #E8F0FE;\n",
              "        border: none;\n",
              "        border-radius: 50%;\n",
              "        cursor: pointer;\n",
              "        display: none;\n",
              "        fill: #1967D2;\n",
              "        height: 32px;\n",
              "        padding: 0 0 0 0;\n",
              "        width: 32px;\n",
              "      }\n",
              "\n",
              "      .colab-df-generate:hover {\n",
              "        background-color: #E2EBFA;\n",
              "        box-shadow: 0px 1px 2px rgba(60, 64, 67, 0.3), 0px 1px 3px 1px rgba(60, 64, 67, 0.15);\n",
              "        fill: #174EA6;\n",
              "      }\n",
              "\n",
              "      [theme=dark] .colab-df-generate {\n",
              "        background-color: #3B4455;\n",
              "        fill: #D2E3FC;\n",
              "      }\n",
              "\n",
              "      [theme=dark] .colab-df-generate:hover {\n",
              "        background-color: #434B5C;\n",
              "        box-shadow: 0px 1px 3px 1px rgba(0, 0, 0, 0.15);\n",
              "        filter: drop-shadow(0px 1px 2px rgba(0, 0, 0, 0.3));\n",
              "        fill: #FFFFFF;\n",
              "      }\n",
              "    </style>\n",
              "    <button class=\"colab-df-generate\" onclick=\"generateWithVariable('df')\"\n",
              "            title=\"Generate code using this dataframe.\"\n",
              "            style=\"display:none;\">\n",
              "\n",
              "  <svg xmlns=\"http://www.w3.org/2000/svg\" height=\"24px\"viewBox=\"0 0 24 24\"\n",
              "       width=\"24px\">\n",
              "    <path d=\"M7,19H8.4L18.45,9,17,7.55,7,17.6ZM5,21V16.75L18.45,3.32a2,2,0,0,1,2.83,0l1.4,1.43a1.91,1.91,0,0,1,.58,1.4,1.91,1.91,0,0,1-.58,1.4L9.25,21ZM18.45,9,17,7.55Zm-12,3A5.31,5.31,0,0,0,4.9,8.1,5.31,5.31,0,0,0,1,6.5,5.31,5.31,0,0,0,4.9,4.9,5.31,5.31,0,0,0,6.5,1,5.31,5.31,0,0,0,8.1,4.9,5.31,5.31,0,0,0,12,6.5,5.46,5.46,0,0,0,6.5,12Z\"/>\n",
              "  </svg>\n",
              "    </button>\n",
              "    <script>\n",
              "      (() => {\n",
              "      const buttonEl =\n",
              "        document.querySelector('#id_7435339e-297f-454a-810d-0a01c2897d89 button.colab-df-generate');\n",
              "      buttonEl.style.display =\n",
              "        google.colab.kernel.accessAllowed ? 'block' : 'none';\n",
              "\n",
              "      buttonEl.onclick = () => {\n",
              "        google.colab.notebook.generateWithVariable('df');\n",
              "      }\n",
              "      })();\n",
              "    </script>\n",
              "  </div>\n",
              "\n",
              "    </div>\n",
              "  </div>\n"
            ],
            "text/plain": [
              "       credit_score       age    tenure   balance  products_number  \\\n",
              "0          0.505353  0.545455  0.200000  0.000000         0.000000   \n",
              "1          0.481799  0.522727  0.100000  0.334031         0.000000   \n",
              "2          0.254818  0.545455  0.800000  0.636357         0.800000   \n",
              "3          0.676660  0.477273  0.100000  0.000000         0.400000   \n",
              "4          1.000000  0.568182  0.200000  0.500246         0.000000   \n",
              "...             ...       ...       ...       ...              ...   \n",
              "15921      0.796021  0.635139  0.294613  0.444239         0.800000   \n",
              "15922      0.141680  0.920881  0.690375  0.499893         0.000000   \n",
              "15923      0.573911  0.332799  0.258921  0.482150         0.000000   \n",
              "15924      0.611469  0.556419  0.162646  0.000000         0.874707   \n",
              "15925      0.797751  0.103138  0.900000  0.000000         0.000000   \n",
              "\n",
              "       credit_card  active_member  estimated_salary  churn  \n",
              "0                1              1          0.506735      1  \n",
              "1                0              1          0.562709      0  \n",
              "2                1              0          0.569654      1  \n",
              "3                0              0          0.469120      0  \n",
              "4                1              1          0.395400      0  \n",
              "...            ...            ...               ...    ...  \n",
              "15921            1              0          0.800099      1  \n",
              "15922            1              0          0.252670      1  \n",
              "15923            0              1          0.826455      1  \n",
              "15924            1              0          0.375351      1  \n",
              "15925            1              0          0.120499      1  \n",
              "\n",
              "[15926 rows x 9 columns]"
            ]
          },
          "execution_count": 2,
          "metadata": {},
          "output_type": "execute_result"
        }
      ],
      "source": [
        "df=pd.read_csv(\"preprocessed_data.csv\")\n",
        "df"
      ]
    },
    {
      "cell_type": "markdown",
      "metadata": {
        "id": "rQXX6GZJQaDX"
      },
      "source": [
        "seperate the input features and prediction feature"
      ]
    },
    {
      "cell_type": "code",
      "execution_count": 3,
      "metadata": {
        "id": "0zwWoXklQTan"
      },
      "outputs": [],
      "source": [
        "x=df.drop(columns='churn')\n",
        "y=df['churn']"
      ]
    },
    {
      "cell_type": "markdown",
      "metadata": {
        "id": "KOgt7ed1QpS2"
      },
      "source": [
        "split data set into training set and testing set"
      ]
    },
    {
      "cell_type": "code",
      "execution_count": 4,
      "metadata": {
        "id": "UAV4wafCQnYH"
      },
      "outputs": [],
      "source": [
        "x_train, x_test, y_train, y_test = train_test_split(x, y, random_state=42, test_size=0.20)"
      ]
    },
    {
      "cell_type": "markdown",
      "metadata": {
        "id": "SbSHKKMIQ4k7"
      },
      "source": [
        "Define algorithams and train the model"
      ]
    },
    {
      "cell_type": "code",
      "execution_count": 6,
      "metadata": {
        "colab": {
          "base_uri": "https://localhost:8080/"
        },
        "id": "YNyWRXCsRARJ",
        "outputId": "69a7877c-a584-41b1-e6a1-8a2ef392a99a"
      },
      "outputs": [
        {
          "name": "stdout",
          "output_type": "stream",
          "text": [
            "Grid search cv result table\n",
            "\n",
            "\n",
            "     mean_fit_time  std_fit_time  mean_score_time  std_score_time  \\\n",
            "0         0.465322      0.154719         0.015446        0.007442   \n",
            "1         0.693566      0.184681         0.023109        0.005079   \n",
            "2         0.586946      0.098255         0.011816        0.000911   \n",
            "3         0.710100      0.037690         0.013971        0.001137   \n",
            "4         0.863101      0.048940         0.017023        0.004497   \n",
            "..             ...           ...              ...             ...   \n",
            "195       0.685614      0.013147         0.015010        0.000316   \n",
            "196       1.412156      0.314577         0.029463        0.012455   \n",
            "197       1.581828      0.023809         0.034000        0.003209   \n",
            "198       2.154949      0.345883         0.049311        0.015938   \n",
            "199       2.477968      0.502953         0.051071        0.005132   \n",
            "\n",
            "    param_learning_rate param_max_depth param_n_estimators  \\\n",
            "0                  0.01               3                100   \n",
            "1                  0.01               3                200   \n",
            "2                  0.01               3                300   \n",
            "3                  0.01               3                400   \n",
            "4                  0.01               3                500   \n",
            "..                  ...             ...                ...   \n",
            "195                 0.3              10                100   \n",
            "196                 0.3              10                200   \n",
            "197                 0.3              10                300   \n",
            "198                 0.3              10                400   \n",
            "199                 0.3              10                500   \n",
            "\n",
            "                                                params  split0_test_score  \\\n",
            "0    {'learning_rate': 0.01, 'max_depth': 3, 'n_est...           0.758242   \n",
            "1    {'learning_rate': 0.01, 'max_depth': 3, 'n_est...           0.770016   \n",
            "2    {'learning_rate': 0.01, 'max_depth': 3, 'n_est...           0.781005   \n",
            "3    {'learning_rate': 0.01, 'max_depth': 3, 'n_est...           0.798273   \n",
            "4    {'learning_rate': 0.01, 'max_depth': 3, 'n_est...           0.800628   \n",
            "..                                                 ...                ...   \n",
            "195  {'learning_rate': 0.3, 'max_depth': 10, 'n_est...           0.883830   \n",
            "196  {'learning_rate': 0.3, 'max_depth': 10, 'n_est...           0.880691   \n",
            "197  {'learning_rate': 0.3, 'max_depth': 10, 'n_est...           0.877551   \n",
            "198  {'learning_rate': 0.3, 'max_depth': 10, 'n_est...           0.880691   \n",
            "199  {'learning_rate': 0.3, 'max_depth': 10, 'n_est...           0.879906   \n",
            "\n",
            "     split1_test_score  ...  split3_test_score  split4_test_score  \\\n",
            "0             0.774725  ...           0.769231           0.758242   \n",
            "1             0.781790  ...           0.785714           0.773940   \n",
            "2             0.799843  ...           0.786499           0.779435   \n",
            "3             0.804553  ...           0.789639           0.794349   \n",
            "4             0.810832  ...           0.798273           0.796703   \n",
            "..                 ...  ...                ...                ...   \n",
            "195           0.883830  ...           0.893250           0.881476   \n",
            "196           0.885400  ...           0.891680           0.883830   \n",
            "197           0.884615  ...           0.897174           0.878336   \n",
            "198           0.882261  ...           0.895604           0.875196   \n",
            "199           0.883046  ...           0.894819           0.872057   \n",
            "\n",
            "     split5_test_score  split6_test_score  split7_test_score  \\\n",
            "0             0.767661           0.755102           0.757457   \n",
            "1             0.797488           0.774725           0.773155   \n",
            "2             0.806122           0.778650           0.776295   \n",
            "3             0.806907           0.792779           0.787284   \n",
            "4             0.809262           0.796703           0.791994   \n",
            "..                 ...                ...                ...   \n",
            "195           0.892465           0.886970           0.894035   \n",
            "196           0.893250           0.894035           0.881476   \n",
            "197           0.890895           0.895604           0.883046   \n",
            "198           0.886970           0.901099           0.881476   \n",
            "199           0.883830           0.894819           0.878336   \n",
            "\n",
            "     split8_test_score  split9_test_score  mean_test_score  std_test_score  \\\n",
            "0             0.756672           0.740188         0.759262        0.009053   \n",
            "1             0.766876           0.765306         0.777080        0.009267   \n",
            "2             0.783359           0.773940         0.785086        0.009784   \n",
            "3             0.795918           0.777865         0.794113        0.007912   \n",
            "4             0.801413           0.777865         0.797724        0.008797   \n",
            "..                 ...                ...              ...             ...   \n",
            "195           0.906593           0.877551         0.889011        0.007819   \n",
            "196           0.901884           0.880691         0.888462        0.006747   \n",
            "197           0.904239           0.881476         0.887991        0.008344   \n",
            "198           0.907378           0.881476         0.888069        0.009704   \n",
            "199           0.906593           0.879906         0.886107        0.009610   \n",
            "\n",
            "     rank_test_score  \n",
            "0                200  \n",
            "1                199  \n",
            "2                197  \n",
            "3                195  \n",
            "4                192  \n",
            "..               ...  \n",
            "195               16  \n",
            "196               22  \n",
            "197               29  \n",
            "198               25  \n",
            "199               49  \n",
            "\n",
            "[200 rows x 21 columns]\n"
          ]
        }
      ],
      "source": [
        "# Define the XGBClassifier\n",
        "xgb = XGBClassifier()\n",
        "\n",
        "# Define the grid of parameters to search\n",
        "param_grid = {\n",
        "    'n_estimators': [100, 200, 300, 400, 500],\n",
        "    'learning_rate': [0.01, 0.05, 0.1, 0.2, 0.3],\n",
        "    'max_depth': [3, 4, 5, 6, 7, 8, 9, 10]\n",
        "}\n",
        "\n",
        "# Initialize GridSearchCV\n",
        "grid_search = GridSearchCV(estimator=xgb, param_grid=param_grid, cv=10, scoring='accuracy', n_jobs=-1)\n",
        "\n",
        "# Fit the GridSearchCV with rescaled data\n",
        "grid_search.fit(x_train, y_train)\n",
        "\n",
        "print(\"Grid search cv result table\\n\\n\")\n",
        "cvTable = pd.DataFrame(grid_search.cv_results_)\n",
        "print(cvTable)"
      ]
    },
    {
      "cell_type": "markdown",
      "metadata": {
        "id": "nTK80PGyXbfm"
      },
      "source": [
        "visiualize grid search cv results in format"
      ]
    },
    {
      "cell_type": "code",
      "execution_count": 9,
      "metadata": {
        "colab": {
          "base_uri": "https://localhost:8080/"
        },
        "id": "xpdqnBWoXUlM",
        "outputId": "5f718d91-0923-4e08-9828-1325100e5de0"
      },
      "outputs": [
        {
          "name": "stdout",
          "output_type": "stream",
          "text": [
            "    param_n_estimators param_learning_rate param_max_depth  mean_test_score\n",
            "0                  100                0.01               3         0.759262\n",
            "1                  200                0.01               3         0.777080\n",
            "2                  300                0.01               3         0.785086\n",
            "3                  400                0.01               3         0.794113\n",
            "4                  500                0.01               3         0.797724\n",
            "..                 ...                 ...             ...              ...\n",
            "195                100                 0.3              10         0.889011\n",
            "196                200                 0.3              10         0.888462\n",
            "197                300                 0.3              10         0.887991\n",
            "198                400                 0.3              10         0.888069\n",
            "199                500                 0.3              10         0.886107\n",
            "\n",
            "[200 rows x 4 columns]\n"
          ]
        }
      ],
      "source": [
        "# Display filtered table with relevant columns\n",
        "filtered_table = cvTable[['param_n_estimators','param_learning_rate','param_max_depth','mean_test_score']]\n",
        "print(filtered_table)"
      ]
    },
    {
      "cell_type": "code",
      "execution_count": 10,
      "metadata": {
        "colab": {
          "base_uri": "https://localhost:8080/"
        },
        "id": "IxyKh-gqYao-",
        "outputId": "5564f680-3c2b-47dc-e928-79f0aa9a4518"
      },
      "outputs": [
        {
          "name": "stdout",
          "output_type": "stream",
          "text": [
            "\n",
            "\n",
            "Best Parameters :  {'learning_rate': 0.05, 'max_depth': 10, 'n_estimators': 500}\n",
            "\n",
            "\n",
            "Best Score :  0.8916012558869703\n"
          ]
        }
      ],
      "source": [
        "# Display the best parameters and best score found by GridSearchCV\n",
        "print(\"\\n\\nBest Parameters : \", grid_search.best_params_)\n",
        "print(\"\\n\\nBest Score : \",grid_search.best_score_)"
      ]
    },
    {
      "cell_type": "markdown",
      "metadata": {
        "id": "nGqNHmPHY-8o"
      },
      "source": [
        "Confusion matrix for testing data"
      ]
    },
    {
      "cell_type": "code",
      "execution_count": 15,
      "metadata": {
        "colab": {
          "base_uri": "https://localhost:8080/",
          "height": 564
        },
        "id": "Vbps0U_2Y883",
        "outputId": "b5a369c5-0340-4a6d-b6ed-f991a00b376c"
      },
      "outputs": [
        {
          "data": {
            "image/png": "[encoded data removed]",
            "text/plain": [
              "<Figure size 800x600 with 1 Axes>"
            ]
          },
          "metadata": {},
          "output_type": "display_data"
        }
      ],
      "source": [
        "y_pred = grid_search.predict(x_test)\n",
        "\n",
        "\n",
        "cm = confusion_matrix(y_test, y_pred)\n",
        "plt.figure(figsize=(8, 6))\n",
        "sns.heatmap(cm, annot=True, fmt='d', cmap='Blues', cbar=False)\n",
        "plt.xlabel('Predicted Labels')\n",
        "plt.ylabel('True Labels')\n",
        "plt.title('Confusion Matrix')\n",
        "plt.show()"
      ]
    },
    {
      "cell_type": "markdown",
      "metadata": {
        "id": "VgPmDWPcZ5ze"
      },
      "source": [
        "Classification report"
      ]
    },
    {
      "cell_type": "code",
      "execution_count": 16,
      "metadata": {
        "colab": {
          "base_uri": "https://localhost:8080/"
        },
        "id": "dbvwAdHdZ8W_",
        "outputId": "4b10ca2a-fa86-43a0-dc18-eddcc07e139d"
      },
      "outputs": [
        {
          "name": "stdout",
          "output_type": "stream",
          "text": [
            "\n",
            "\n",
            "\n",
            "Classification Report:\n",
            "              precision    recall  f1-score   support\n",
            "\n",
            "           0       0.89      0.91      0.90      1633\n",
            "           1       0.90      0.89      0.90      1553\n",
            "\n",
            "    accuracy                           0.90      3186\n",
            "   macro avg       0.90      0.90      0.90      3186\n",
            "weighted avg       0.90      0.90      0.90      3186\n",
            "\n"
          ]
        }
      ],
      "source": [
        "print(\"\\n\\n\\nClassification Report:\")\n",
        "print(classification_report(y_test, y_pred))"
      ]
    },
    {
      "cell_type": "markdown",
      "metadata": {
        "id": "onvd3M-ZZ_lh"
      },
      "source": [
        "accuracy of testing data set"
      ]
    },
    {
      "cell_type": "code",
      "execution_count": 17,
      "metadata": {
        "colab": {
          "base_uri": "https://localhost:8080/"
        },
        "id": "6SntM_n-aH05",
        "outputId": "5e85db93-7ad1-44a8-f72c-4542a7359e6d"
      },
      "outputs": [
        {
          "name": "stdout",
          "output_type": "stream",
          "text": [
            "\n",
            "\n",
            "Testing Accuracy :  0.898932831136221\n"
          ]
        }
      ],
      "source": [
        "accuracy = accuracy_score(y_test, y_pred)\n",
        "print (\"\\n\\nTesting Accuracy : \",accuracy)"
      ]
    }
  ],
  "metadata": {
    "colab": {
      "provenance": []
    },
    "kernelspec": {
      "display_name": "Python 3",
      "name": "python3"
    },
    "language_info": {
      "name": "python"
    }
  },
  "nbformat": 4,
  "nbformat_minor": 0
}
