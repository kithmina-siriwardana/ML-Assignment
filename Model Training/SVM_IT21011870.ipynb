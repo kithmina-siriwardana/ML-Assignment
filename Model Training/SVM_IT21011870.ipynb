{
  "cells": [
    {
      "cell_type": "markdown",
      "metadata": {
        "id": "JYGJUB3MUXje"
      },
      "source": [
        "Import neccessary libraries"
      ]
    },
    {
      "cell_type": "code",
      "execution_count": 10,
      "metadata": {
        "id": "rsrMB9PdWmDo"
      },
      "outputs": [],
      "source": [
        "import pandas as pd\n",
        "import matplotlib.pyplot as plt\n",
        "import seaborn as sns\n",
        "\n",
        "from sklearn.model_selection import train_test_split, GridSearchCV\n",
        "from sklearn.metrics import accuracy_score, confusion_matrix, classification_report\n",
        "from sklearn import svm\n"
      ]
    },
    {
      "cell_type": "markdown",
      "metadata": {
        "id": "uFmrQzjJUeIM"
      },
      "source": [
        "Import preprocessed data set"
      ]
    },
    {
      "cell_type": "code",
      "execution_count": 2,
      "metadata": {
        "colab": {
          "base_uri": "https://localhost:8080/",
          "height": 423
        },
        "id": "YuETkSDMXT21",
        "outputId": "9a3fa612-546e-458a-fb08-3f2899bc4882"
      },
      "outputs": [
        {
          "data": {
            "application/vnd.google.colaboratory.intrinsic+json": {
              "summary": "{\n  \"name\": \"df\",\n  \"rows\": 15926,\n  \"fields\": [\n    {\n      \"column\": \"credit_score\",\n      \"properties\": {\n        \"dtype\": \"number\",\n        \"std\": 0.202284116995062,\n        \"min\": 0.0,\n        \"max\": 1.0,\n        \"num_unique_values\": 6323,\n        \"samples\": [\n          0.6613082350698001,\n          0.6057174324495356,\n          0.755511008\n        ],\n        \"semantic_type\": \"\",\n        \"description\": \"\"\n      }\n    },\n    {\n      \"column\": \"age\",\n      \"properties\": {\n        \"dtype\": \"number\",\n        \"std\": 0.2213724207420137,\n        \"min\": 0.0,\n        \"max\": 1.0,\n        \"num_unique_values\": 5466,\n        \"samples\": [\n          0.8585212212118464,\n          0.6288428462322682,\n          0.7018063923089293\n        ],\n        \"semantic_type\": \"\",\n        \"description\": \"\"\n      }\n    },\n    {\n      \"column\": \"tenure\",\n      \"properties\": {\n        \"dtype\": \"number\",\n        \"std\": 0.2863453999057595,\n        \"min\": 0.0,\n        \"max\": 1.0,\n        \"num_unique_values\": 4052,\n        \"samples\": [\n          0.1037253880614196,\n          0.3000943415267632,\n          0.1496750498856365\n        ],\n        \"semantic_type\": \"\",\n        \"description\": \"\"\n      }\n    },\n    {\n      \"column\": \"balance\",\n      \"properties\": {\n        \"dtype\": \"number\",\n        \"std\": 0.24143129366192784,\n        \"min\": 0.0,\n        \"max\": 1.0,\n        \"num_unique_values\": 11022,\n        \"samples\": [\n          0.4005059584152275,\n          0.4741470132355332,\n          0.5435114299659636\n        ],\n        \"semantic_type\": \"\",\n        \"description\": \"\"\n      }\n    },\n    {\n      \"column\": \"products_number\",\n      \"properties\": {\n        \"dtype\": \"number\",\n        \"std\": 0.25728263701277687,\n        \"min\": 0.0,\n        \"max\": 1.0,\n        \"num_unique_values\": 368,\n        \"samples\": [\n          0.4640007107024229,\n          0.34622662905218,\n          0.4191750213443989\n        ],\n        \"semantic_type\": \"\",\n        \"description\": \"\"\n      }\n    },\n    {\n      \"column\": \"credit_card\",\n      \"properties\": {\n        \"dtype\": \"number\",\n        \"std\": 0,\n        \"min\": 0,\n        \"max\": 1,\n        \"num_unique_values\": 2,\n        \"samples\": [\n          0,\n          1\n        ],\n        \"semantic_type\": \"\",\n        \"description\": \"\"\n      }\n    },\n    {\n      \"column\": \"active_member\",\n      \"properties\": {\n        \"dtype\": \"number\",\n        \"std\": 0,\n        \"min\": 0,\n        \"max\": 1,\n        \"num_unique_values\": 2,\n        \"samples\": [\n          0,\n          1\n        ],\n        \"semantic_type\": \"\",\n        \"description\": \"\"\n      }\n    },\n    {\n      \"column\": \"estimated_salary\",\n      \"properties\": {\n        \"dtype\": \"number\",\n        \"std\": 0.2852418851720417,\n        \"min\": 0.0,\n        \"max\": 1.0,\n        \"num_unique_values\": 15925,\n        \"samples\": [\n          0.2828885158532639,\n          0.2147857620402748\n        ],\n        \"semantic_type\": \"\",\n        \"description\": \"\"\n      }\n    },\n    {\n      \"column\": \"churn\",\n      \"properties\": {\n        \"dtype\": \"number\",\n        \"std\": 0,\n        \"min\": 0,\n        \"max\": 1,\n        \"num_unique_values\": 2,\n        \"samples\": [\n          0,\n          1\n        ],\n        \"semantic_type\": \"\",\n        \"description\": \"\"\n      }\n    }\n  ]\n}",
              "type": "dataframe",
              "variable_name": "df"
            },
            "text/html": [
              "\n",
              "  <div id=\"df-e56e3e2b-32c9-4bd2-afea-4a24716c71ad\" class=\"colab-df-container\">\n",
              "    <div>\n",
              "<style scoped>\n",
              "    .dataframe tbody tr th:only-of-type {\n",
              "        vertical-align: middle;\n",
              "    }\n",
              "\n",
              "    .dataframe tbody tr th {\n",
              "        vertical-align: top;\n",
              "    }\n",
              "\n",
              "    .dataframe thead th {\n",
              "        text-align: right;\n",
              "    }\n",
              "</style>\n",
              "<table border=\"1\" class=\"dataframe\">\n",
              "  <thead>\n",
              "    <tr style=\"text-align: right;\">\n",
              "      <th></th>\n",
              "      <th>credit_score</th>\n",
              "      <th>age</th>\n",
              "      <th>tenure</th>\n",
              "      <th>balance</th>\n",
              "      <th>products_number</th>\n",
              "      <th>credit_card</th>\n",
              "      <th>active_member</th>\n",
              "      <th>estimated_salary</th>\n",
              "      <th>churn</th>\n",
              "    </tr>\n",
              "  </thead>\n",
              "  <tbody>\n",
              "    <tr>\n",
              "      <th>0</th>\n",
              "      <td>0.505353</td>\n",
              "      <td>0.545455</td>\n",
              "      <td>0.200000</td>\n",
              "      <td>0.000000</td>\n",
              "      <td>0.000000</td>\n",
              "      <td>1</td>\n",
              "      <td>1</td>\n",
              "      <td>0.506735</td>\n",
              "      <td>1</td>\n",
              "    </tr>\n",
              "    <tr>\n",
              "      <th>1</th>\n",
              "      <td>0.481799</td>\n",
              "      <td>0.522727</td>\n",
              "      <td>0.100000</td>\n",
              "      <td>0.334031</td>\n",
              "      <td>0.000000</td>\n",
              "      <td>0</td>\n",
              "      <td>1</td>\n",
              "      <td>0.562709</td>\n",
              "      <td>0</td>\n",
              "    </tr>\n",
              "    <tr>\n",
              "      <th>2</th>\n",
              "      <td>0.254818</td>\n",
              "      <td>0.545455</td>\n",
              "      <td>0.800000</td>\n",
              "      <td>0.636357</td>\n",
              "      <td>0.800000</td>\n",
              "      <td>1</td>\n",
              "      <td>0</td>\n",
              "      <td>0.569654</td>\n",
              "      <td>1</td>\n",
              "    </tr>\n",
              "    <tr>\n",
              "      <th>3</th>\n",
              "      <td>0.676660</td>\n",
              "      <td>0.477273</td>\n",
              "      <td>0.100000</td>\n",
              "      <td>0.000000</td>\n",
              "      <td>0.400000</td>\n",
              "      <td>0</td>\n",
              "      <td>0</td>\n",
              "      <td>0.469120</td>\n",
              "      <td>0</td>\n",
              "    </tr>\n",
              "    <tr>\n",
              "      <th>4</th>\n",
              "      <td>1.000000</td>\n",
              "      <td>0.568182</td>\n",
              "      <td>0.200000</td>\n",
              "      <td>0.500246</td>\n",
              "      <td>0.000000</td>\n",
              "      <td>1</td>\n",
              "      <td>1</td>\n",
              "      <td>0.395400</td>\n",
              "      <td>0</td>\n",
              "    </tr>\n",
              "    <tr>\n",
              "      <th>...</th>\n",
              "      <td>...</td>\n",
              "      <td>...</td>\n",
              "      <td>...</td>\n",
              "      <td>...</td>\n",
              "      <td>...</td>\n",
              "      <td>...</td>\n",
              "      <td>...</td>\n",
              "      <td>...</td>\n",
              "      <td>...</td>\n",
              "    </tr>\n",
              "    <tr>\n",
              "      <th>15921</th>\n",
              "      <td>0.796021</td>\n",
              "      <td>0.635139</td>\n",
              "      <td>0.294613</td>\n",
              "      <td>0.444239</td>\n",
              "      <td>0.800000</td>\n",
              "      <td>1</td>\n",
              "      <td>0</td>\n",
              "      <td>0.800099</td>\n",
              "      <td>1</td>\n",
              "    </tr>\n",
              "    <tr>\n",
              "      <th>15922</th>\n",
              "      <td>0.141680</td>\n",
              "      <td>0.920881</td>\n",
              "      <td>0.690375</td>\n",
              "      <td>0.499893</td>\n",
              "      <td>0.000000</td>\n",
              "      <td>1</td>\n",
              "      <td>0</td>\n",
              "      <td>0.252670</td>\n",
              "      <td>1</td>\n",
              "    </tr>\n",
              "    <tr>\n",
              "      <th>15923</th>\n",
              "      <td>0.573911</td>\n",
              "      <td>0.332799</td>\n",
              "      <td>0.258921</td>\n",
              "      <td>0.482150</td>\n",
              "      <td>0.000000</td>\n",
              "      <td>0</td>\n",
              "      <td>1</td>\n",
              "      <td>0.826455</td>\n",
              "      <td>1</td>\n",
              "    </tr>\n",
              "    <tr>\n",
              "      <th>15924</th>\n",
              "      <td>0.611469</td>\n",
              "      <td>0.556419</td>\n",
              "      <td>0.162646</td>\n",
              "      <td>0.000000</td>\n",
              "      <td>0.874707</td>\n",
              "      <td>1</td>\n",
              "      <td>0</td>\n",
              "      <td>0.375351</td>\n",
              "      <td>1</td>\n",
              "    </tr>\n",
              "    <tr>\n",
              "      <th>15925</th>\n",
              "      <td>0.797751</td>\n",
              "      <td>0.103138</td>\n",
              "      <td>0.900000</td>\n",
              "      <td>0.000000</td>\n",
              "      <td>0.000000</td>\n",
              "      <td>1</td>\n",
              "      <td>0</td>\n",
              "      <td>0.120499</td>\n",
              "      <td>1</td>\n",
              "    </tr>\n",
              "  </tbody>\n",
              "</table>\n",
              "<p>15926 rows × 9 columns</p>\n",
              "</div>\n",
              "    <div class=\"colab-df-buttons\">\n",
              "\n",
              "  <div class=\"colab-df-container\">\n",
              "    <button class=\"colab-df-convert\" onclick=\"convertToInteractive('df-e56e3e2b-32c9-4bd2-afea-4a24716c71ad')\"\n",
              "            title=\"Convert this dataframe to an interactive table.\"\n",
              "            style=\"display:none;\">\n",
              "\n",
              "  <svg xmlns=\"http://www.w3.org/2000/svg\" height=\"24px\" viewBox=\"0 -960 960 960\">\n",
              "    <path d=\"M120-120v-720h720v720H120Zm60-500h600v-160H180v160Zm220 220h160v-160H400v160Zm0 220h160v-160H400v160ZM180-400h160v-160H180v160Zm440 0h160v-160H620v160ZM180-180h160v-160H180v160Zm440 0h160v-160H620v160Z\"/>\n",
              "  </svg>\n",
              "    </button>\n",
              "\n",
              "  <style>\n",
              "    .colab-df-container {\n",
              "      display:flex;\n",
              "      gap: 12px;\n",
              "    }\n",
              "\n",
              "    .colab-df-convert {\n",
              "      background-color: #E8F0FE;\n",
              "      border: none;\n",
              "      border-radius: 50%;\n",
              "      cursor: pointer;\n",
              "      display: none;\n",
              "      fill: #1967D2;\n",
              "      height: 32px;\n",
              "      padding: 0 0 0 0;\n",
              "      width: 32px;\n",
              "    }\n",
              "\n",
              "    .colab-df-convert:hover {\n",
              "      background-color: #E2EBFA;\n",
              "      box-shadow: 0px 1px 2px rgba(60, 64, 67, 0.3), 0px 1px 3px 1px rgba(60, 64, 67, 0.15);\n",
              "      fill: #174EA6;\n",
              "    }\n",
              "\n",
              "    .colab-df-buttons div {\n",
              "      margin-bottom: 4px;\n",
              "    }\n",
              "\n",
              "    [theme=dark] .colab-df-convert {\n",
              "      background-color: #3B4455;\n",
              "      fill: #D2E3FC;\n",
              "    }\n",
              "\n",
              "    [theme=dark] .colab-df-convert:hover {\n",
              "      background-color: #434B5C;\n",
              "      box-shadow: 0px 1px 3px 1px rgba(0, 0, 0, 0.15);\n",
              "      filter: drop-shadow(0px 1px 2px rgba(0, 0, 0, 0.3));\n",
              "      fill: #FFFFFF;\n",
              "    }\n",
              "  </style>\n",
              "\n",
              "    <script>\n",
              "      const buttonEl =\n",
              "        document.querySelector('#df-e56e3e2b-32c9-4bd2-afea-4a24716c71ad button.colab-df-convert');\n",
              "      buttonEl.style.display =\n",
              "        google.colab.kernel.accessAllowed ? 'block' : 'none';\n",
              "\n",
              "      async function convertToInteractive(key) {\n",
              "        const element = document.querySelector('#df-e56e3e2b-32c9-4bd2-afea-4a24716c71ad');\n",
              "        const dataTable =\n",
              "          await google.colab.kernel.invokeFunction('convertToInteractive',\n",
              "                                                    [key], {});\n",
              "        if (!dataTable) return;\n",
              "\n",
              "        const docLinkHtml = 'Like what you see? Visit the ' +\n",
              "          '<a target=\"_blank\" href=https://colab.research.google.com/notebooks/data_table.ipynb>data table notebook</a>'\n",
              "          + ' to learn more about interactive tables.';\n",
              "        element.innerHTML = '';\n",
              "        dataTable['output_type'] = 'display_data';\n",
              "        await google.colab.output.renderOutput(dataTable, element);\n",
              "        const docLink = document.createElement('div');\n",
              "        docLink.innerHTML = docLinkHtml;\n",
              "        element.appendChild(docLink);\n",
              "      }\n",
              "    </script>\n",
              "  </div>\n",
              "\n",
              "\n",
              "<div id=\"df-50bcc484-7715-4f45-86e5-7631ffe74645\">\n",
              "  <button class=\"colab-df-quickchart\" onclick=\"quickchart('df-50bcc484-7715-4f45-86e5-7631ffe74645')\"\n",
              "            title=\"Suggest charts\"\n",
              "            style=\"display:none;\">\n",
              "\n",
              "<svg xmlns=\"http://www.w3.org/2000/svg\" height=\"24px\"viewBox=\"0 0 24 24\"\n",
              "     width=\"24px\">\n",
              "    <g>\n",
              "        <path d=\"M19 3H5c-1.1 0-2 .9-2 2v14c0 1.1.9 2 2 2h14c1.1 0 2-.9 2-2V5c0-1.1-.9-2-2-2zM9 17H7v-7h2v7zm4 0h-2V7h2v10zm4 0h-2v-4h2v4z\"/>\n",
              "    </g>\n",
              "</svg>\n",
              "  </button>\n",
              "\n",
              "<style>\n",
              "  .colab-df-quickchart {\n",
              "      --bg-color: #E8F0FE;\n",
              "      --fill-color: #1967D2;\n",
              "      --hover-bg-color: #E2EBFA;\n",
              "      --hover-fill-color: #174EA6;\n",
              "      --disabled-fill-color: #AAA;\n",
              "      --disabled-bg-color: #DDD;\n",
              "  }\n",
              "\n",
              "  [theme=dark] .colab-df-quickchart {\n",
              "      --bg-color: #3B4455;\n",
              "      --fill-color: #D2E3FC;\n",
              "      --hover-bg-color: #434B5C;\n",
              "      --hover-fill-color: #FFFFFF;\n",
              "      --disabled-bg-color: #3B4455;\n",
              "      --disabled-fill-color: #666;\n",
              "  }\n",
              "\n",
              "  .colab-df-quickchart {\n",
              "    background-color: var(--bg-color);\n",
              "    border: none;\n",
              "    border-radius: 50%;\n",
              "    cursor: pointer;\n",
              "    display: none;\n",
              "    fill: var(--fill-color);\n",
              "    height: 32px;\n",
              "    padding: 0;\n",
              "    width: 32px;\n",
              "  }\n",
              "\n",
              "  .colab-df-quickchart:hover {\n",
              "    background-color: var(--hover-bg-color);\n",
              "    box-shadow: 0 1px 2px rgba(60, 64, 67, 0.3), 0 1px 3px 1px rgba(60, 64, 67, 0.15);\n",
              "    fill: var(--button-hover-fill-color);\n",
              "  }\n",
              "\n",
              "  .colab-df-quickchart-complete:disabled,\n",
              "  .colab-df-quickchart-complete:disabled:hover {\n",
              "    background-color: var(--disabled-bg-color);\n",
              "    fill: var(--disabled-fill-color);\n",
              "    box-shadow: none;\n",
              "  }\n",
              "\n",
              "  .colab-df-spinner {\n",
              "    border: 2px solid var(--fill-color);\n",
              "    border-color: transparent;\n",
              "    border-bottom-color: var(--fill-color);\n",
              "    animation:\n",
              "      spin 1s steps(1) infinite;\n",
              "  }\n",
              "\n",
              "  @keyframes spin {\n",
              "    0% {\n",
              "      border-color: transparent;\n",
              "      border-bottom-color: var(--fill-color);\n",
              "      border-left-color: var(--fill-color);\n",
              "    }\n",
              "    20% {\n",
              "      border-color: transparent;\n",
              "      border-left-color: var(--fill-color);\n",
              "      border-top-color: var(--fill-color);\n",
              "    }\n",
              "    30% {\n",
              "      border-color: transparent;\n",
              "      border-left-color: var(--fill-color);\n",
              "      border-top-color: var(--fill-color);\n",
              "      border-right-color: var(--fill-color);\n",
              "    }\n",
              "    40% {\n",
              "      border-color: transparent;\n",
              "      border-right-color: var(--fill-color);\n",
              "      border-top-color: var(--fill-color);\n",
              "    }\n",
              "    60% {\n",
              "      border-color: transparent;\n",
              "      border-right-color: var(--fill-color);\n",
              "    }\n",
              "    80% {\n",
              "      border-color: transparent;\n",
              "      border-right-color: var(--fill-color);\n",
              "      border-bottom-color: var(--fill-color);\n",
              "    }\n",
              "    90% {\n",
              "      border-color: transparent;\n",
              "      border-bottom-color: var(--fill-color);\n",
              "    }\n",
              "  }\n",
              "</style>\n",
              "\n",
              "  <script>\n",
              "    async function quickchart(key) {\n",
              "      const quickchartButtonEl =\n",
              "        document.querySelector('#' + key + ' button');\n",
              "      quickchartButtonEl.disabled = true;  // To prevent multiple clicks.\n",
              "      quickchartButtonEl.classList.add('colab-df-spinner');\n",
              "      try {\n",
              "        const charts = await google.colab.kernel.invokeFunction(\n",
              "            'suggestCharts', [key], {});\n",
              "      } catch (error) {\n",
              "        console.error('Error during call to suggestCharts:', error);\n",
              "      }\n",
              "      quickchartButtonEl.classList.remove('colab-df-spinner');\n",
              "      quickchartButtonEl.classList.add('colab-df-quickchart-complete');\n",
              "    }\n",
              "    (() => {\n",
              "      let quickchartButtonEl =\n",
              "        document.querySelector('#df-50bcc484-7715-4f45-86e5-7631ffe74645 button');\n",
              "      quickchartButtonEl.style.display =\n",
              "        google.colab.kernel.accessAllowed ? 'block' : 'none';\n",
              "    })();\n",
              "  </script>\n",
              "</div>\n",
              "\n",
              "  <div id=\"id_4bec941c-ffe9-4a70-9374-8f495e3cc51e\">\n",
              "    <style>\n",
              "      .colab-df-generate {\n",
              "        background-color: #E8F0FE;\n",
              "        border: none;\n",
              "        border-radius: 50%;\n",
              "        cursor: pointer;\n",
              "        display: none;\n",
              "        fill: #1967D2;\n",
              "        height: 32px;\n",
              "        padding: 0 0 0 0;\n",
              "        width: 32px;\n",
              "      }\n",
              "\n",
              "      .colab-df-generate:hover {\n",
              "        background-color: #E2EBFA;\n",
              "        box-shadow: 0px 1px 2px rgba(60, 64, 67, 0.3), 0px 1px 3px 1px rgba(60, 64, 67, 0.15);\n",
              "        fill: #174EA6;\n",
              "      }\n",
              "\n",
              "      [theme=dark] .colab-df-generate {\n",
              "        background-color: #3B4455;\n",
              "        fill: #D2E3FC;\n",
              "      }\n",
              "\n",
              "      [theme=dark] .colab-df-generate:hover {\n",
              "        background-color: #434B5C;\n",
              "        box-shadow: 0px 1px 3px 1px rgba(0, 0, 0, 0.15);\n",
              "        filter: drop-shadow(0px 1px 2px rgba(0, 0, 0, 0.3));\n",
              "        fill: #FFFFFF;\n",
              "      }\n",
              "    </style>\n",
              "    <button class=\"colab-df-generate\" onclick=\"generateWithVariable('df')\"\n",
              "            title=\"Generate code using this dataframe.\"\n",
              "            style=\"display:none;\">\n",
              "\n",
              "  <svg xmlns=\"http://www.w3.org/2000/svg\" height=\"24px\"viewBox=\"0 0 24 24\"\n",
              "       width=\"24px\">\n",
              "    <path d=\"M7,19H8.4L18.45,9,17,7.55,7,17.6ZM5,21V16.75L18.45,3.32a2,2,0,0,1,2.83,0l1.4,1.43a1.91,1.91,0,0,1,.58,1.4,1.91,1.91,0,0,1-.58,1.4L9.25,21ZM18.45,9,17,7.55Zm-12,3A5.31,5.31,0,0,0,4.9,8.1,5.31,5.31,0,0,0,1,6.5,5.31,5.31,0,0,0,4.9,4.9,5.31,5.31,0,0,0,6.5,1,5.31,5.31,0,0,0,8.1,4.9,5.31,5.31,0,0,0,12,6.5,5.46,5.46,0,0,0,6.5,12Z\"/>\n",
              "  </svg>\n",
              "    </button>\n",
              "    <script>\n",
              "      (() => {\n",
              "      const buttonEl =\n",
              "        document.querySelector('#id_4bec941c-ffe9-4a70-9374-8f495e3cc51e button.colab-df-generate');\n",
              "      buttonEl.style.display =\n",
              "        google.colab.kernel.accessAllowed ? 'block' : 'none';\n",
              "\n",
              "      buttonEl.onclick = () => {\n",
              "        google.colab.notebook.generateWithVariable('df');\n",
              "      }\n",
              "      })();\n",
              "    </script>\n",
              "  </div>\n",
              "\n",
              "    </div>\n",
              "  </div>\n"
            ],
            "text/plain": [
              "       credit_score       age    tenure   balance  products_number  \\\n",
              "0          0.505353  0.545455  0.200000  0.000000         0.000000   \n",
              "1          0.481799  0.522727  0.100000  0.334031         0.000000   \n",
              "2          0.254818  0.545455  0.800000  0.636357         0.800000   \n",
              "3          0.676660  0.477273  0.100000  0.000000         0.400000   \n",
              "4          1.000000  0.568182  0.200000  0.500246         0.000000   \n",
              "...             ...       ...       ...       ...              ...   \n",
              "15921      0.796021  0.635139  0.294613  0.444239         0.800000   \n",
              "15922      0.141680  0.920881  0.690375  0.499893         0.000000   \n",
              "15923      0.573911  0.332799  0.258921  0.482150         0.000000   \n",
              "15924      0.611469  0.556419  0.162646  0.000000         0.874707   \n",
              "15925      0.797751  0.103138  0.900000  0.000000         0.000000   \n",
              "\n",
              "       credit_card  active_member  estimated_salary  churn  \n",
              "0                1              1          0.506735      1  \n",
              "1                0              1          0.562709      0  \n",
              "2                1              0          0.569654      1  \n",
              "3                0              0          0.469120      0  \n",
              "4                1              1          0.395400      0  \n",
              "...            ...            ...               ...    ...  \n",
              "15921            1              0          0.800099      1  \n",
              "15922            1              0          0.252670      1  \n",
              "15923            0              1          0.826455      1  \n",
              "15924            1              0          0.375351      1  \n",
              "15925            1              0          0.120499      1  \n",
              "\n",
              "[15926 rows x 9 columns]"
            ]
          },
          "execution_count": 2,
          "metadata": {},
          "output_type": "execute_result"
        }
      ],
      "source": [
        "df=pd.read_csv(\"preprocessed_data.csv\")\n",
        "df"
      ]
    },
    {
      "cell_type": "markdown",
      "metadata": {
        "id": "dkfuIwqcUhgx"
      },
      "source": [
        "seperate the input features and prediction feature"
      ]
    },
    {
      "cell_type": "code",
      "execution_count": 3,
      "metadata": {
        "id": "gR0qHfvUXVR_"
      },
      "outputs": [],
      "source": [
        "x=df.drop(columns='churn')\n",
        "y=df['churn']"
      ]
    },
    {
      "cell_type": "markdown",
      "metadata": {
        "id": "JJL0rJq9UrVG"
      },
      "source": [
        "split data set into training set and testing set"
      ]
    },
    {
      "cell_type": "code",
      "execution_count": 4,
      "metadata": {
        "id": "J3N1DcZ_XW56"
      },
      "outputs": [],
      "source": [
        "x_train, x_test, y_train, y_test = train_test_split(x, y, random_state=42, test_size=0.20)"
      ]
    },
    {
      "cell_type": "markdown",
      "metadata": {
        "id": "yTWBcaNRUwPR"
      },
      "source": [
        "Define algorithams and train the model"
      ]
    },
    {
      "cell_type": "code",
      "execution_count": 6,
      "metadata": {
        "colab": {
          "base_uri": "https://localhost:8080/"
        },
        "id": "gHeV9ylmXa1l",
        "outputId": "094e42a5-2561-4c77-96a3-9221c190f203"
      },
      "outputs": [
        {
          "name": "stdout",
          "output_type": "stream",
          "text": [
            "Grid search cv result table\n",
            "\n",
            "\n",
            "    mean_fit_time  std_fit_time  mean_score_time  std_score_time param_C  \\\n",
            "0        4.683447      0.374598         0.518045        0.145773       1   \n",
            "1        4.705036      0.440385         0.260163        0.026584       1   \n",
            "2        5.306166      0.417276         0.553406        0.055797       1   \n",
            "3        4.746573      0.415183         0.293070        0.081776       1   \n",
            "4        6.040269      0.594514         0.415925        0.009501      10   \n",
            "5        6.917788      0.320559         0.294692        0.086049      10   \n",
            "6        4.966340      0.434835         0.563165        0.188495      10   \n",
            "7        6.872942      0.360698         0.263231        0.038966      10   \n",
            "8        6.909509      0.382991         0.465791        0.128705      20   \n",
            "9        8.279192      0.508857         0.299711        0.076087      20   \n",
            "10       5.192756      0.301137         0.548407        0.169956      20   \n",
            "11       8.263858      0.366204         0.292236        0.081079      20   \n",
            "\n",
            "   param_gamma param_kernel                                           params  \\\n",
            "0        scale          rbf      {'C': 1, 'gamma': 'scale', 'kernel': 'rbf'}   \n",
            "1        scale       linear   {'C': 1, 'gamma': 'scale', 'kernel': 'linear'}   \n",
            "2         auto          rbf       {'C': 1, 'gamma': 'auto', 'kernel': 'rbf'}   \n",
            "3         auto       linear    {'C': 1, 'gamma': 'auto', 'kernel': 'linear'}   \n",
            "4        scale          rbf     {'C': 10, 'gamma': 'scale', 'kernel': 'rbf'}   \n",
            "5        scale       linear  {'C': 10, 'gamma': 'scale', 'kernel': 'linear'}   \n",
            "6         auto          rbf      {'C': 10, 'gamma': 'auto', 'kernel': 'rbf'}   \n",
            "7         auto       linear   {'C': 10, 'gamma': 'auto', 'kernel': 'linear'}   \n",
            "8        scale          rbf     {'C': 20, 'gamma': 'scale', 'kernel': 'rbf'}   \n",
            "9        scale       linear  {'C': 20, 'gamma': 'scale', 'kernel': 'linear'}   \n",
            "10        auto          rbf      {'C': 20, 'gamma': 'auto', 'kernel': 'rbf'}   \n",
            "11        auto       linear   {'C': 20, 'gamma': 'auto', 'kernel': 'linear'}   \n",
            "\n",
            "    split0_test_score  split1_test_score  ...  split3_test_score  \\\n",
            "0            0.772370           0.781005  ...           0.765306   \n",
            "1            0.706436           0.709576  ...           0.716641   \n",
            "2            0.738619           0.747253  ...           0.733909   \n",
            "3            0.706436           0.709576  ...           0.716641   \n",
            "4            0.789639           0.791209  ...           0.794349   \n",
            "5            0.704867           0.708791  ...           0.715856   \n",
            "6            0.773155           0.778650  ...           0.763736   \n",
            "7            0.704867           0.708791  ...           0.715856   \n",
            "8            0.790424           0.792779  ...           0.795918   \n",
            "9            0.705651           0.708791  ...           0.715856   \n",
            "10           0.773155           0.775510  ...           0.762166   \n",
            "11           0.705651           0.708791  ...           0.715856   \n",
            "\n",
            "    split4_test_score  split5_test_score  split6_test_score  \\\n",
            "0            0.766091           0.771586           0.777865   \n",
            "1            0.709576           0.711146           0.716641   \n",
            "2            0.738619           0.746468           0.745683   \n",
            "3            0.709576           0.711146           0.716641   \n",
            "4            0.766876           0.792779           0.795918   \n",
            "5            0.709576           0.711146           0.715071   \n",
            "6            0.769231           0.773940           0.775510   \n",
            "7            0.709576           0.711146           0.715071   \n",
            "8            0.766091           0.795133           0.799058   \n",
            "9            0.709576           0.711146           0.715071   \n",
            "10           0.765306           0.766876           0.777865   \n",
            "11           0.709576           0.711146           0.715071   \n",
            "\n",
            "    split7_test_score  split8_test_score  split9_test_score  mean_test_score  \\\n",
            "0            0.763736           0.765306           0.767661         0.768838   \n",
            "1            0.685243           0.707221           0.713501         0.708634   \n",
            "2            0.721350           0.735479           0.733124         0.738462   \n",
            "3            0.685243           0.707221           0.713501         0.708634   \n",
            "4            0.770016           0.784929           0.773155         0.782182   \n",
            "5            0.684458           0.708006           0.712716         0.708085   \n",
            "6            0.748823           0.763736           0.766876         0.766954   \n",
            "7            0.684458           0.708006           0.712716         0.708085   \n",
            "8            0.784929           0.788854           0.772370         0.785008   \n",
            "9            0.684458           0.708006           0.712716         0.708085   \n",
            "10           0.748823           0.769231           0.767661         0.766170   \n",
            "11           0.684458           0.708006           0.712716         0.708085   \n",
            "\n",
            "    std_test_score  rank_test_score  \n",
            "0         0.006626                3  \n",
            "1         0.008467                7  \n",
            "2         0.007592                6  \n",
            "3         0.008467                7  \n",
            "4         0.011947                2  \n",
            "5         0.008465                9  \n",
            "6         0.008800                4  \n",
            "7         0.008465                9  \n",
            "8         0.012086                1  \n",
            "9         0.008421                9  \n",
            "10        0.008515                5  \n",
            "11        0.008421                9  \n",
            "\n",
            "[12 rows x 21 columns]\n"
          ]
        }
      ],
      "source": [
        "param_grid = {\n",
        " 'C': [1,10,20],\n",
        "  'kernel': ['rbf','linear'],\n",
        "  'gamma': ['scale', 'auto'],\n",
        "}\n",
        "\n",
        "\n",
        "grid_search = GridSearchCV(svm.SVC(), param_grid, cv=10, return_train_score=False)\n",
        "grid_search.fit(x_train, y_train)\n",
        "\n",
        "print(\"Grid search cv result table\\n\\n\")\n",
        "cvTable = pd.DataFrame(grid_search.cv_results_)\n",
        "print(cvTable)"
      ]
    },
    {
      "cell_type": "markdown",
      "metadata": {
        "id": "dAEdbmetcT3U"
      },
      "source": [
        "visiualize grid search cv results in format"
      ]
    },
    {
      "cell_type": "code",
      "execution_count": 7,
      "metadata": {
        "colab": {
          "base_uri": "https://localhost:8080/"
        },
        "id": "CD_3J4TTcW4d",
        "outputId": "5e818ecc-0a3b-4b8d-a608-55236451d66a"
      },
      "outputs": [
        {
          "name": "stdout",
          "output_type": "stream",
          "text": [
            "   param_gamma param_kernel param_C  mean_test_score\n",
            "0        scale          rbf       1         0.768838\n",
            "1        scale       linear       1         0.708634\n",
            "2         auto          rbf       1         0.738462\n",
            "3         auto       linear       1         0.708634\n",
            "4        scale          rbf      10         0.782182\n",
            "5        scale       linear      10         0.708085\n",
            "6         auto          rbf      10         0.766954\n",
            "7         auto       linear      10         0.708085\n",
            "8        scale          rbf      20         0.785008\n",
            "9        scale       linear      20         0.708085\n",
            "10        auto          rbf      20         0.766170\n",
            "11        auto       linear      20         0.708085\n"
          ]
        }
      ],
      "source": [
        "# Display filtered table with relevant columns\n",
        "filtered_table = cvTable[['param_gamma','param_kernel','param_C','mean_test_score']]\n",
        "print(filtered_table)"
      ]
    },
    {
      "cell_type": "code",
      "execution_count": 8,
      "metadata": {
        "colab": {
          "base_uri": "https://localhost:8080/"
        },
        "id": "ewqeMKQ0ck6I",
        "outputId": "8babdeb7-d55e-4c64-c540-9cbed09a4179"
      },
      "outputs": [
        {
          "name": "stdout",
          "output_type": "stream",
          "text": [
            "\n",
            "\n",
            "Best Parameters :  {'C': 20, 'gamma': 'scale', 'kernel': 'rbf'}\n",
            "\n",
            "\n",
            "Best Score :  0.7850078492935636\n"
          ]
        }
      ],
      "source": [
        "# Display the best parameters and best score found by GridSearchCV\n",
        "print(\"\\n\\nBest Parameters : \", grid_search.best_params_)\n",
        "print(\"\\n\\nBest Score : \",grid_search.best_score_)"
      ]
    },
    {
      "cell_type": "markdown",
      "metadata": {
        "id": "3lqYB-06crcL"
      },
      "source": [
        "Confusion matrix for testing data"
      ]
    },
    {
      "cell_type": "code",
      "execution_count": 11,
      "metadata": {
        "colab": {
          "base_uri": "https://localhost:8080/",
          "height": 564
        },
        "id": "8daFSJ__ctLE",
        "outputId": "d9b2935c-6b90-4e64-8852-e006e3ad400e"
      },
      "outputs": [
        {
          "data": {
            "image/png": "[encoded data removed]",
            "text/plain": [
              "<Figure size 800x600 with 1 Axes>"
            ]
          },
          "metadata": {},
          "output_type": "display_data"
        }
      ],
      "source": [
        "y_pred = grid_search.predict(x_test)\n",
        "\n",
        "\n",
        "cm = confusion_matrix(y_test, y_pred)\n",
        "plt.figure(figsize=(8, 6))\n",
        "sns.heatmap(cm, annot=True, fmt='d', cmap='Blues', cbar=False)\n",
        "plt.xlabel('Predicted Labels')\n",
        "plt.ylabel('True Labels')\n",
        "plt.title('Confusion Matrix')\n",
        "plt.show()"
      ]
    },
    {
      "cell_type": "markdown",
      "metadata": {
        "id": "ifysbPRFc6yc"
      },
      "source": [
        "Classification report"
      ]
    },
    {
      "cell_type": "code",
      "execution_count": 12,
      "metadata": {
        "colab": {
          "base_uri": "https://localhost:8080/"
        },
        "id": "-xEGRUMyc8oq",
        "outputId": "f76c496e-6242-4d70-dfdb-680e284498ec"
      },
      "outputs": [
        {
          "name": "stdout",
          "output_type": "stream",
          "text": [
            "\n",
            "\n",
            "\n",
            "Classification Report:\n",
            "              precision    recall  f1-score   support\n",
            "\n",
            "           0       0.80      0.78      0.79      1633\n",
            "           1       0.77      0.79      0.78      1553\n",
            "\n",
            "    accuracy                           0.78      3186\n",
            "   macro avg       0.78      0.78      0.78      3186\n",
            "weighted avg       0.78      0.78      0.78      3186\n",
            "\n"
          ]
        }
      ],
      "source": [
        "print(\"\\n\\n\\nClassification Report:\")\n",
        "print(classification_report(y_test, y_pred))"
      ]
    },
    {
      "cell_type": "markdown",
      "metadata": {
        "id": "oW9zcBAHdAdj"
      },
      "source": [
        "accuracy of testing data set"
      ]
    },
    {
      "cell_type": "code",
      "execution_count": 13,
      "metadata": {
        "colab": {
          "base_uri": "https://localhost:8080/"
        },
        "id": "KE_ZilPAdCHk",
        "outputId": "e3f18476-7af5-483f-ebe8-1b6afc35f9bc"
      },
      "outputs": [
        {
          "name": "stdout",
          "output_type": "stream",
          "text": [
            "\n",
            "\n",
            "Testing Accuracy :  0.7831136220966729\n"
          ]
        }
      ],
      "source": [
        "accuracy = accuracy_score(y_test, y_pred)\n",
        "print (\"\\n\\nTesting Accuracy : \",accuracy)"
      ]
    }
  ],
  "metadata": {
    "colab": {
      "provenance": []
    },
    "kernelspec": {
      "display_name": "Python 3",
      "name": "python3"
    },
    "language_info": {
      "name": "python"
    }
  },
  "nbformat": 4,
  "nbformat_minor": 0
}
